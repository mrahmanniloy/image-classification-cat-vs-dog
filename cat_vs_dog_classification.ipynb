{
  "nbformat": 4,
  "nbformat_minor": 0,
  "metadata": {
    "kernelspec": {
      "display_name": "Python 3",
      "language": "python",
      "name": "python3"
    },
    "language_info": {
      "codemirror_mode": {
        "name": "ipython",
        "version": 3
      },
      "file_extension": ".py",
      "mimetype": "text/x-python",
      "name": "python",
      "nbconvert_exporter": "python",
      "pygments_lexer": "ipython3",
      "version": "3.6.6"
    },
    "colab": {
      "name": "cat-vs-dog-classification.ipynb",
      "provenance": [],
      "collapsed_sections": [
        "zVc9v8pJlNrU",
        "k0667aFlSxW1",
        "wf_g5AORSxW7",
        "54W7mTbYSxXL"
      ],
      "toc_visible": true
    },
    "accelerator": "GPU"
  },
  "cells": [
    {
      "cell_type": "markdown",
      "metadata": {
        "id": "hnKL_6yMSxVn",
        "colab_type": "text"
      },
      "source": [
        "## Dataset importing using Kaggle API\n"
      ]
    },
    {
      "cell_type": "code",
      "metadata": {
        "id": "oWRBDzDoTkOI",
        "colab_type": "code",
        "colab": {}
      },
      "source": [
        "import os\n",
        "os.environ['KAGGLE_CONFIG_DIR'] = \"/content\""
      ],
      "execution_count": 1,
      "outputs": []
    },
    {
      "cell_type": "code",
      "execution_count": null,
      "metadata": {},
      "outputs": [],
      "source": [
        "!kaggle datasets download -d tongpython/cat-and-dog"
      ]
    },
    {
      "cell_type": "code",
      "execution_count": null,
      "metadata": {},
      "outputs": [],
      "source": [
        "!unzip '/content/cat-and-dog.zip'"
      ]
    },
    {
      "cell_type": "markdown",
      "metadata": {
        "id": "-n2NTNSNSxVq",
        "colab_type": "text"
      },
      "source": [
        "## Import Packages"
      ]
    },
    {
      "cell_type": "code",
      "metadata": {
        "_cell_guid": "b1076dfc-b9ad-4769-8c92-a6c4dae69d19",
        "_uuid": "8f2839f25d086af736a60e9eeb907d3b93b6e0e5",
        "id": "9R74-WrdSxVt",
        "colab_type": "code",
        "colab": {}
      },
      "source": [
        "import numpy as np\n",
        "import pandas as pd\n",
        "import matplotlib.pyplot as plt\n",
        "import matplotlib.image as mpimg\n",
        "%matplotlib inline\n",
        "\n",
        "import tensorflow as tf\n",
        "from tensorflow.keras.preprocessing.image import ImageDataGenerator\n",
        "from tensorflow.keras.preprocessing.image import img_to_array, load_img\n",
        "from tensorflow.keras import regularizers\n",
        "from tensorflow.keras.callbacks import EarlyStopping, ModelCheckpoint\n",
        "\n",
        "import random\n",
        "import os"
      ],
      "execution_count": 7,
      "outputs": []
    },
    {
      "cell_type": "markdown",
      "metadata": {
        "id": "9uLsH2uiSxV7",
        "colab_type": "text"
      },
      "source": [
        "## Explore the Data"
      ]
    },
    {
      "cell_type": "code",
      "metadata": {
        "id": "TPnPz3_oEwwY",
        "colab_type": "code",
        "colab": {
          "base_uri": "https://localhost:8080/",
          "height": 35
        },
        "outputId": "ee5e7b98-9b06-4565-efa5-175cff1ca234"
      },
      "source": [
        "train = '/content/training_set/training_set/'\n",
        "val = '/content/test_set/test_set/'\n",
        "\n",
        "Categories = [x for x in os.listdir(train)]\n",
        "print(Categories)"
      ],
      "execution_count": 8,
      "outputs": [
        {
          "output_type": "stream",
          "text": [
            "['dogs', 'cats']\n"
          ],
          "name": "stdout"
        }
      ]
    },
    {
      "cell_type": "code",
      "metadata": {
        "id": "sQq4XzT7O-vV",
        "colab_type": "code",
        "colab": {
          "base_uri": "https://localhost:8080/",
          "height": 515
        },
        "outputId": "ad091054-362c-4c5d-fb10-033667fdbf86"
      },
      "source": [
        "train_total = 0\n",
        "test_total = 0\n",
        "val_total = 0\n",
        "\n",
        "for i in Categories:\n",
        "  train_total += len(os.listdir(train + i))\n",
        "  #test_total += len(os.listdir(test + i))\n",
        "  val_total += len(os.listdir(val + i))\n",
        "\n",
        "div = ['Train', 'Validation']\n",
        "\n",
        "values = [train_total, val_total]\n",
        "\n",
        "print(values)\n",
        "\n",
        "fig = plt.figure(figsize = (15, 8)) \n",
        "  \n",
        "# creating the bar plot \n",
        "plt.bar(div, values, color ='blue',  \n",
        "        width = 0.4)  \n",
        "plt.xlabel(\"Train-Validation\") \n",
        "plt.ylabel(\"Number of images in each split\") \n",
        "plt.show() "
      ],
      "execution_count": 11,
      "outputs": [
        {
          "output_type": "stream",
          "text": [
            "[8007, 2025]\n"
          ],
          "name": "stdout"
        },
        {
          "output_type": "display_data",
          "data": {
            "image/png": "[encoded data removed]",
            "text/plain": [
              "<Figure size 1080x576 with 1 Axes>"
            ]
          },
          "metadata": {
            "tags": [],
            "needs_background": "light"
          }
        }
      ]
    },
    {
      "cell_type": "markdown",
      "metadata": {
        "id": "RYl1ka_iSxWV",
        "colab_type": "text"
      },
      "source": [
        "## Data Preprocessing with augmentation"
      ]
    },
    {
      "cell_type": "code",
      "metadata": {
        "id": "wITdG_KPSxWW",
        "colab_type": "code",
        "colab": {
          "base_uri": "https://localhost:8080/",
          "height": 54
        },
        "outputId": "c01dcaa6-2b51-4491-8667-7011e42bc553"
      },
      "source": [
        "TRAINING_DIR = train\n",
        "training_datagen = ImageDataGenerator(\n",
        "    rescale = 1./255,\n",
        "    rotation_range=40,\n",
        "    width_shift_range=0.2,\n",
        "    height_shift_range=0.2,\n",
        "    shear_range=0.2,\n",
        "    zoom_range=0.2,\n",
        "    horizontal_flip=True,\n",
        "    fill_mode='nearest'\n",
        ")\n",
        "VALIDATION_DIR = val\n",
        "validation_datagen = ImageDataGenerator(rescale = 1./255)\n",
        "\n",
        "train_generator = training_datagen.flow_from_directory(\n",
        "    TRAINING_DIR,\n",
        "    target_size=(224,224),\n",
        "    batch_size = 32,\n",
        "    shuffle = True,\n",
        "    class_mode='categorical')\n",
        "\n",
        "validation_generator = validation_datagen.flow_from_directory(\n",
        "    VALIDATION_DIR,\n",
        "    target_size=(224,224),\n",
        "    batch_size = 16,\n",
        "    shuffle = True,\n",
        "    class_mode='categorical')"
      ],
      "execution_count": 12,
      "outputs": [
        {
          "output_type": "stream",
          "text": [
            "Found 8005 images belonging to 2 classes.\n",
            "Found 2023 images belonging to 2 classes.\n"
          ],
          "name": "stdout"
        }
      ]
    },
    {
      "cell_type": "markdown",
      "metadata": {
        "id": "8U_GS3x2SxWd",
        "colab_type": "text"
      },
      "source": [
        "## Building Model - Transfer Learning"
      ]
    },
    {
      "cell_type": "code",
      "metadata": {
        "id": "G_Cd7lqBwACi",
        "colab_type": "code",
        "colab": {
          "base_uri": "https://localhost:8080/",
          "height": 54
        },
        "outputId": "cfd8b182-f56c-4fae-9e6d-6383d932a8a8"
      },
      "source": [
        "# Create the base model from the pre-trained model VGG16\n",
        "IMG_SIZE = (224, 224)\n",
        "\n",
        "IMG_SHAPE = IMG_SIZE + (3,)\n",
        "base_model = tf.keras.applications.VGG16(input_shape=IMG_SHAPE,\n",
        "                                               include_top=False,\n",
        "                                               weights='imagenet')"
      ],
      "execution_count": 40,
      "outputs": [
        {
          "output_type": "stream",
          "text": [
            "Downloading data from https://storage.googleapis.com/tensorflow/keras-applications/vgg16/vgg16_weights_tf_dim_ordering_tf_kernels_notop.h5\n",
            "58892288/58889256 [==============================] - 0s 0us/step\n"
          ],
          "name": "stdout"
        }
      ]
    },
    {
      "cell_type": "code",
      "metadata": {
        "id": "HsZd4_1azDav",
        "colab_type": "code",
        "colab": {
          "base_uri": "https://localhost:8080/",
          "height": 35
        },
        "outputId": "f75134d8-7d10-4e96-af3f-7487a0976034"
      },
      "source": [
        "image_batch, label_batch = next(iter(train_generator))\n",
        "feature_batch = base_model(image_batch)\n",
        "print(feature_batch.shape)"
      ],
      "execution_count": 41,
      "outputs": [
        {
          "output_type": "stream",
          "text": [
            "(32, 7, 7, 512)\n"
          ],
          "name": "stdout"
        }
      ]
    },
    {
      "cell_type": "code",
      "metadata": {
        "id": "XTRqwvdDznW3",
        "colab_type": "code",
        "colab": {}
      },
      "source": [
        "base_model.trainable = False"
      ],
      "execution_count": 42,
      "outputs": []
    },
    {
      "cell_type": "code",
      "metadata": {
        "id": "5wRjcBh8zrkF",
        "colab_type": "code",
        "colab": {
          "base_uri": "https://localhost:8080/",
          "height": 854
        },
        "outputId": "8f11acb7-4ccd-419c-b0de-47eb4890a51c"
      },
      "source": [
        "# Let's take a look at the base model architecture\n",
        "base_model.summary()"
      ],
      "execution_count": 43,
      "outputs": [
        {
          "output_type": "stream",
          "text": [
            "Model: \"vgg16\"\n",
            "_________________________________________________________________\n",
            "Layer (type)                 Output Shape              Param #   \n",
            "=================================================================\n",
            "input_5 (InputLayer)         [(None, 224, 224, 3)]     0         \n",
            "_________________________________________________________________\n",
            "block1_conv1 (Conv2D)        (None, 224, 224, 64)      1792      \n",
            "_________________________________________________________________\n",
            "block1_conv2 (Conv2D)        (None, 224, 224, 64)      36928     \n",
            "_________________________________________________________________\n",
            "block1_pool (MaxPooling2D)   (None, 112, 112, 64)      0         \n",
            "_________________________________________________________________\n",
            "block2_conv1 (Conv2D)        (None, 112, 112, 128)     73856     \n",
            "_________________________________________________________________\n",
            "block2_conv2 (Conv2D)        (None, 112, 112, 128)     147584    \n",
            "_________________________________________________________________\n",
            "block2_pool (MaxPooling2D)   (None, 56, 56, 128)       0         \n",
            "_________________________________________________________________\n",
            "block3_conv1 (Conv2D)        (None, 56, 56, 256)       295168    \n",
            "_________________________________________________________________\n",
            "block3_conv2 (Conv2D)        (None, 56, 56, 256)       590080    \n",
            "_________________________________________________________________\n",
            "block3_conv3 (Conv2D)        (None, 56, 56, 256)       590080    \n",
            "_________________________________________________________________\n",
            "block3_pool (MaxPooling2D)   (None, 28, 28, 256)       0         \n",
            "_________________________________________________________________\n",
            "block4_conv1 (Conv2D)        (None, 28, 28, 512)       1180160   \n",
            "_________________________________________________________________\n",
            "block4_conv2 (Conv2D)        (None, 28, 28, 512)       2359808   \n",
            "_________________________________________________________________\n",
            "block4_conv3 (Conv2D)        (None, 28, 28, 512)       2359808   \n",
            "_________________________________________________________________\n",
            "block4_pool (MaxPooling2D)   (None, 14, 14, 512)       0         \n",
            "_________________________________________________________________\n",
            "block5_conv1 (Conv2D)        (None, 14, 14, 512)       2359808   \n",
            "_________________________________________________________________\n",
            "block5_conv2 (Conv2D)        (None, 14, 14, 512)       2359808   \n",
            "_________________________________________________________________\n",
            "block5_conv3 (Conv2D)        (None, 14, 14, 512)       2359808   \n",
            "_________________________________________________________________\n",
            "block5_pool (MaxPooling2D)   (None, 7, 7, 512)         0         \n",
            "=================================================================\n",
            "Total params: 14,714,688\n",
            "Trainable params: 0\n",
            "Non-trainable params: 14,714,688\n",
            "_________________________________________________________________\n"
          ],
          "name": "stdout"
        }
      ]
    },
    {
      "cell_type": "code",
      "metadata": {
        "id": "7QWbyHEkzyR3",
        "colab_type": "code",
        "colab": {
          "base_uri": "https://localhost:8080/",
          "height": 35
        },
        "outputId": "72cc8b94-d070-447c-c738-60513cc773fe"
      },
      "source": [
        "global_average_layer = tf.keras.layers.GlobalAveragePooling2D()\n",
        "feature_batch_average = global_average_layer(feature_batch)\n",
        "print(feature_batch_average.shape)"
      ],
      "execution_count": 44,
      "outputs": [
        {
          "output_type": "stream",
          "text": [
            "(32, 512)\n"
          ],
          "name": "stdout"
        }
      ]
    },
    {
      "cell_type": "code",
      "metadata": {
        "id": "SxmbikDK0CqY",
        "colab_type": "code",
        "colab": {
          "base_uri": "https://localhost:8080/",
          "height": 35
        },
        "outputId": "815dd430-11d0-4fb7-9b38-e1d24ee41a03"
      },
      "source": [
        "prediction_layer = tf.keras.layers.Dense(2, activation='softmax') # As the number of classes is 225\n",
        "prediction_batch = prediction_layer(feature_batch_average)\n",
        "print(prediction_batch.shape)"
      ],
      "execution_count": 45,
      "outputs": [
        {
          "output_type": "stream",
          "text": [
            "(32, 2)\n"
          ],
          "name": "stdout"
        }
      ]
    },
    {
      "cell_type": "code",
      "metadata": {
        "id": "M1RZKS1Y0H0k",
        "colab_type": "code",
        "colab": {}
      },
      "source": [
        "inputs = tf.keras.Input(shape=(224, 224, 3))\n",
        "x = base_model(inputs, training=False)\n",
        "x = global_average_layer(x)\n",
        "x = tf.keras.layers.Dropout(0.2)(x)\n",
        "outputs = prediction_layer(x)\n",
        "model = tf.keras.Model(inputs, outputs)"
      ],
      "execution_count": 46,
      "outputs": []
    },
    {
      "cell_type": "code",
      "metadata": {
        "id": "Ibm5fN5N2DGP",
        "colab_type": "code",
        "colab": {}
      },
      "source": [
        "base_learning_rate = 1e-5\n",
        "model.compile(optimizer=tf.keras.optimizers.Adam(lr=base_learning_rate),\n",
        "              loss=tf.keras.losses.CategoricalCrossentropy(from_logits=True),\n",
        "              metrics=['accuracy'])"
      ],
      "execution_count": 57,
      "outputs": []
    },
    {
      "cell_type": "code",
      "metadata": {
        "id": "6BPU-nAA2O4z",
        "colab_type": "code",
        "colab": {
          "base_uri": "https://localhost:8080/",
          "height": 345
        },
        "outputId": "40077267-7267-4f04-b5ad-8dd24fd5c310"
      },
      "source": [
        "model.summary()"
      ],
      "execution_count": 58,
      "outputs": [
        {
          "output_type": "stream",
          "text": [
            "Model: \"functional_5\"\n",
            "_________________________________________________________________\n",
            "Layer (type)                 Output Shape              Param #   \n",
            "=================================================================\n",
            "input_6 (InputLayer)         [(None, 224, 224, 3)]     0         \n",
            "_________________________________________________________________\n",
            "vgg16 (Functional)           (None, 7, 7, 512)         14714688  \n",
            "_________________________________________________________________\n",
            "global_average_pooling2d_2 ( (None, 512)               0         \n",
            "_________________________________________________________________\n",
            "dropout_2 (Dropout)          (None, 512)               0         \n",
            "_________________________________________________________________\n",
            "dense_2 (Dense)              (None, 2)                 1026      \n",
            "=================================================================\n",
            "Total params: 14,715,714\n",
            "Trainable params: 1,026\n",
            "Non-trainable params: 14,714,688\n",
            "_________________________________________________________________\n"
          ],
          "name": "stdout"
        }
      ]
    },
    {
      "cell_type": "markdown",
      "metadata": {
        "id": "Rp_Or50fiO0n",
        "colab_type": "text"
      },
      "source": [
        "## Tensorboard"
      ]
    },
    {
      "cell_type": "code",
      "metadata": {
        "id": "2wgsRmMviUYd",
        "colab_type": "code",
        "colab": {
          "base_uri": "https://localhost:8080/",
          "height": 54
        },
        "outputId": "1ab53b7f-776e-4a25-c37d-f13d7433d204"
      },
      "source": [
        "%load_ext tensorboard"
      ],
      "execution_count": 49,
      "outputs": [
        {
          "output_type": "stream",
          "text": [
            "The tensorboard extension is already loaded. To reload it, use:\n",
            "  %reload_ext tensorboard\n"
          ],
          "name": "stdout"
        }
      ]
    },
    {
      "cell_type": "code",
      "metadata": {
        "id": "XuzEVCZricTb",
        "colab_type": "code",
        "colab": {}
      },
      "source": [
        "import datetime\n",
        "# Clear any logs from previous runs\n",
        "!rm -rf ./logs/ "
      ],
      "execution_count": 50,
      "outputs": []
    },
    {
      "cell_type": "code",
      "metadata": {
        "id": "rI2ebwP2jKkK",
        "colab_type": "code",
        "colab": {}
      },
      "source": [
        "log_dir = \"logs/fit/\" + datetime.datetime.now().strftime(\"%Y%m%d-%H%M%S\")\n",
        "tensorboard_callback = tf.keras.callbacks.TensorBoard(log_dir=log_dir, histogram_freq=1)"
      ],
      "execution_count": 51,
      "outputs": []
    },
    {
      "cell_type": "markdown",
      "metadata": {
        "id": "OMXwgTIJ7pYV",
        "colab_type": "text"
      },
      "source": [
        "# Training"
      ]
    },
    {
      "cell_type": "code",
      "metadata": {
        "id": "5p3eeUwX2bti",
        "colab_type": "code",
        "colab": {
          "base_uri": "https://localhost:8080/",
          "height": 35
        },
        "outputId": "d6129d62-f428-49fc-ca83-0ea968140904"
      },
      "source": [
        "initial_epochs = 100\n",
        "\n",
        "loss0, accuracy0 = model.evaluate(validation_generator)"
      ],
      "execution_count": 59,
      "outputs": [
        {
          "output_type": "stream",
          "text": [
            "127/127 [==============================] - 8s 60ms/step - loss: 0.6899 - accuracy: 0.5522\n"
          ],
          "name": "stdout"
        }
      ]
    },
    {
      "cell_type": "code",
      "metadata": {
        "id": "olNlc8Ha2j8R",
        "colab_type": "code",
        "colab": {
          "base_uri": "https://localhost:8080/",
          "height": 54
        },
        "outputId": "ea199d63-2728-42fe-87be-106fded9b78a"
      },
      "source": [
        "print(\"initial loss: {:.2f}\".format(loss0))\n",
        "print(\"initial accuracy: {:.2f}\".format(accuracy0))"
      ],
      "execution_count": 60,
      "outputs": [
        {
          "output_type": "stream",
          "text": [
            "initial loss: 0.69\n",
            "initial accuracy: 0.55\n"
          ],
          "name": "stdout"
        }
      ]
    },
    {
      "cell_type": "code",
      "metadata": {
        "id": "NxwtvFNqOhu-",
        "colab_type": "code",
        "colab": {}
      },
      "source": [
        "es = EarlyStopping(\n",
        "    monitor='val_loss', patience=5, verbose=0, mode='min'\n",
        ")"
      ],
      "execution_count": 61,
      "outputs": []
    },
    {
      "cell_type": "code",
      "metadata": {
        "id": "0DT-q-LnPLEW",
        "colab_type": "code",
        "colab": {}
      },
      "source": [
        "mc = ModelCheckpoint('best_eff_b7_model.h5', monitor='val_accuracy', mode='max', verbose=1, save_best_only=True)"
      ],
      "execution_count": 62,
      "outputs": []
    },
    {
      "cell_type": "code",
      "metadata": {
        "id": "ZNbHA6ni2mhz",
        "colab_type": "code",
        "colab": {
          "base_uri": "https://localhost:8080/",
          "height": 1000
        },
        "outputId": "ae42db95-07aa-4a9e-fdba-8c152103129d"
      },
      "source": [
        "history = model.fit(train_generator,\n",
        "                    epochs=initial_epochs,\n",
        "                    validation_data=validation_generator,\n",
        "                    callbacks = [es, mc])"
      ],
      "execution_count": 63,
      "outputs": [
        {
          "output_type": "stream",
          "text": [
            "Epoch 1/100\n",
            "251/251 [==============================] - ETA: 0s - loss: 0.6904 - accuracy: 0.5305\n",
            "Epoch 00001: val_accuracy improved from -inf to 0.55264, saving model to best_eff_b7_model.h5\n",
            "251/251 [==============================] - 104s 416ms/step - loss: 0.6904 - accuracy: 0.5305 - val_loss: 0.6868 - val_accuracy: 0.5526\n",
            "Epoch 2/100\n",
            "251/251 [==============================] - ETA: 0s - loss: 0.6884 - accuracy: 0.5375\n",
            "Epoch 00002: val_accuracy improved from 0.55264 to 0.56945, saving model to best_eff_b7_model.h5\n",
            "251/251 [==============================] - 104s 416ms/step - loss: 0.6884 - accuracy: 0.5375 - val_loss: 0.6843 - val_accuracy: 0.5695\n",
            "Epoch 3/100\n",
            "251/251 [==============================] - ETA: 0s - loss: 0.6872 - accuracy: 0.5434\n",
            "Epoch 00003: val_accuracy improved from 0.56945 to 0.57538, saving model to best_eff_b7_model.h5\n",
            "251/251 [==============================] - 104s 415ms/step - loss: 0.6872 - accuracy: 0.5434 - val_loss: 0.6821 - val_accuracy: 0.5754\n",
            "Epoch 4/100\n",
            "251/251 [==============================] - ETA: 0s - loss: 0.6823 - accuracy: 0.5689\n",
            "Epoch 00004: val_accuracy improved from 0.57538 to 0.58131, saving model to best_eff_b7_model.h5\n",
            "251/251 [==============================] - 104s 415ms/step - loss: 0.6823 - accuracy: 0.5689 - val_loss: 0.6800 - val_accuracy: 0.5813\n",
            "Epoch 5/100\n",
            "251/251 [==============================] - ETA: 0s - loss: 0.6820 - accuracy: 0.5673\n",
            "Epoch 00005: val_accuracy improved from 0.58131 to 0.58774, saving model to best_eff_b7_model.h5\n",
            "251/251 [==============================] - 104s 414ms/step - loss: 0.6820 - accuracy: 0.5673 - val_loss: 0.6779 - val_accuracy: 0.5877\n",
            "Epoch 6/100\n",
            "251/251 [==============================] - ETA: 0s - loss: 0.6802 - accuracy: 0.5801\n",
            "Epoch 00006: val_accuracy improved from 0.58774 to 0.59911, saving model to best_eff_b7_model.h5\n",
            "251/251 [==============================] - 104s 414ms/step - loss: 0.6802 - accuracy: 0.5801 - val_loss: 0.6759 - val_accuracy: 0.5991\n",
            "Epoch 7/100\n",
            "251/251 [==============================] - ETA: 0s - loss: 0.6786 - accuracy: 0.5885\n",
            "Epoch 00007: val_accuracy improved from 0.59911 to 0.61196, saving model to best_eff_b7_model.h5\n",
            "251/251 [==============================] - 104s 414ms/step - loss: 0.6786 - accuracy: 0.5885 - val_loss: 0.6740 - val_accuracy: 0.6120\n",
            "Epoch 8/100\n",
            "251/251 [==============================] - ETA: 0s - loss: 0.6766 - accuracy: 0.5958\n",
            "Epoch 00008: val_accuracy improved from 0.61196 to 0.62234, saving model to best_eff_b7_model.h5\n",
            "251/251 [==============================] - 105s 417ms/step - loss: 0.6766 - accuracy: 0.5958 - val_loss: 0.6720 - val_accuracy: 0.6223\n",
            "Epoch 9/100\n",
            "251/251 [==============================] - ETA: 0s - loss: 0.6752 - accuracy: 0.5940\n",
            "Epoch 00009: val_accuracy improved from 0.62234 to 0.62827, saving model to best_eff_b7_model.h5\n",
            "251/251 [==============================] - 105s 417ms/step - loss: 0.6752 - accuracy: 0.5940 - val_loss: 0.6700 - val_accuracy: 0.6283\n",
            "Epoch 10/100\n",
            "251/251 [==============================] - ETA: 0s - loss: 0.6741 - accuracy: 0.6156\n",
            "Epoch 00010: val_accuracy improved from 0.62827 to 0.64261, saving model to best_eff_b7_model.h5\n",
            "251/251 [==============================] - 105s 417ms/step - loss: 0.6741 - accuracy: 0.6156 - val_loss: 0.6680 - val_accuracy: 0.6426\n",
            "Epoch 11/100\n",
            "251/251 [==============================] - ETA: 0s - loss: 0.6716 - accuracy: 0.6219\n",
            "Epoch 00011: val_accuracy improved from 0.64261 to 0.64805, saving model to best_eff_b7_model.h5\n",
            "251/251 [==============================] - 105s 417ms/step - loss: 0.6716 - accuracy: 0.6219 - val_loss: 0.6660 - val_accuracy: 0.6480\n",
            "Epoch 12/100\n",
            "251/251 [==============================] - ETA: 0s - loss: 0.6692 - accuracy: 0.6297\n",
            "Epoch 00012: val_accuracy improved from 0.64805 to 0.65052, saving model to best_eff_b7_model.h5\n",
            "251/251 [==============================] - 105s 418ms/step - loss: 0.6692 - accuracy: 0.6297 - val_loss: 0.6642 - val_accuracy: 0.6505\n",
            "Epoch 13/100\n",
            "251/251 [==============================] - ETA: 0s - loss: 0.6679 - accuracy: 0.6304\n",
            "Epoch 00013: val_accuracy improved from 0.65052 to 0.66387, saving model to best_eff_b7_model.h5\n",
            "251/251 [==============================] - 105s 418ms/step - loss: 0.6679 - accuracy: 0.6304 - val_loss: 0.6622 - val_accuracy: 0.6639\n",
            "Epoch 14/100\n",
            "251/251 [==============================] - ETA: 0s - loss: 0.6673 - accuracy: 0.6380\n",
            "Epoch 00014: val_accuracy improved from 0.66387 to 0.66930, saving model to best_eff_b7_model.h5\n",
            "251/251 [==============================] - 105s 418ms/step - loss: 0.6673 - accuracy: 0.6380 - val_loss: 0.6603 - val_accuracy: 0.6693\n",
            "Epoch 15/100\n",
            "251/251 [==============================] - ETA: 0s - loss: 0.6656 - accuracy: 0.6390\n",
            "Epoch 00015: val_accuracy improved from 0.66930 to 0.67425, saving model to best_eff_b7_model.h5\n",
            "251/251 [==============================] - 105s 417ms/step - loss: 0.6656 - accuracy: 0.6390 - val_loss: 0.6584 - val_accuracy: 0.6742\n",
            "Epoch 16/100\n",
            "251/251 [==============================] - ETA: 0s - loss: 0.6636 - accuracy: 0.6525\n",
            "Epoch 00016: val_accuracy improved from 0.67425 to 0.67820, saving model to best_eff_b7_model.h5\n",
            "251/251 [==============================] - 104s 416ms/step - loss: 0.6636 - accuracy: 0.6525 - val_loss: 0.6567 - val_accuracy: 0.6782\n",
            "Epoch 17/100\n",
            "251/251 [==============================] - ETA: 0s - loss: 0.6620 - accuracy: 0.6596\n",
            "Epoch 00017: val_accuracy improved from 0.67820 to 0.68512, saving model to best_eff_b7_model.h5\n",
            "251/251 [==============================] - 104s 415ms/step - loss: 0.6620 - accuracy: 0.6596 - val_loss: 0.6548 - val_accuracy: 0.6851\n",
            "Epoch 18/100\n",
            "251/251 [==============================] - ETA: 0s - loss: 0.6606 - accuracy: 0.6621\n",
            "Epoch 00018: val_accuracy improved from 0.68512 to 0.69105, saving model to best_eff_b7_model.h5\n",
            "251/251 [==============================] - 104s 414ms/step - loss: 0.6606 - accuracy: 0.6621 - val_loss: 0.6531 - val_accuracy: 0.6911\n",
            "Epoch 19/100\n",
            "251/251 [==============================] - ETA: 0s - loss: 0.6585 - accuracy: 0.6632\n",
            "Epoch 00019: val_accuracy improved from 0.69105 to 0.69649, saving model to best_eff_b7_model.h5\n",
            "251/251 [==============================] - 104s 414ms/step - loss: 0.6585 - accuracy: 0.6632 - val_loss: 0.6512 - val_accuracy: 0.6965\n",
            "Epoch 20/100\n",
            "251/251 [==============================] - ETA: 0s - loss: 0.6570 - accuracy: 0.6678\n",
            "Epoch 00020: val_accuracy improved from 0.69649 to 0.70242, saving model to best_eff_b7_model.h5\n",
            "251/251 [==============================] - 104s 414ms/step - loss: 0.6570 - accuracy: 0.6678 - val_loss: 0.6494 - val_accuracy: 0.7024\n",
            "Epoch 21/100\n",
            "251/251 [==============================] - ETA: 0s - loss: 0.6549 - accuracy: 0.6766\n",
            "Epoch 00021: val_accuracy improved from 0.70242 to 0.70786, saving model to best_eff_b7_model.h5\n",
            "251/251 [==============================] - 104s 414ms/step - loss: 0.6549 - accuracy: 0.6766 - val_loss: 0.6477 - val_accuracy: 0.7079\n",
            "Epoch 22/100\n",
            "251/251 [==============================] - ETA: 0s - loss: 0.6542 - accuracy: 0.6800\n",
            "Epoch 00022: val_accuracy improved from 0.70786 to 0.71429, saving model to best_eff_b7_model.h5\n",
            "251/251 [==============================] - 104s 413ms/step - loss: 0.6542 - accuracy: 0.6800 - val_loss: 0.6460 - val_accuracy: 0.7143\n",
            "Epoch 23/100\n",
            "251/251 [==============================] - ETA: 0s - loss: 0.6523 - accuracy: 0.6797\n",
            "Epoch 00023: val_accuracy improved from 0.71429 to 0.72269, saving model to best_eff_b7_model.h5\n",
            "251/251 [==============================] - 104s 413ms/step - loss: 0.6523 - accuracy: 0.6797 - val_loss: 0.6442 - val_accuracy: 0.7227\n",
            "Epoch 24/100\n",
            "251/251 [==============================] - ETA: 0s - loss: 0.6513 - accuracy: 0.6859\n",
            "Epoch 00024: val_accuracy improved from 0.72269 to 0.72417, saving model to best_eff_b7_model.h5\n",
            "251/251 [==============================] - 104s 416ms/step - loss: 0.6513 - accuracy: 0.6859 - val_loss: 0.6426 - val_accuracy: 0.7242\n",
            "Epoch 25/100\n",
            "251/251 [==============================] - ETA: 0s - loss: 0.6508 - accuracy: 0.6861\n",
            "Epoch 00025: val_accuracy improved from 0.72417 to 0.72961, saving model to best_eff_b7_model.h5\n",
            "251/251 [==============================] - 105s 418ms/step - loss: 0.6508 - accuracy: 0.6861 - val_loss: 0.6410 - val_accuracy: 0.7296\n",
            "Epoch 26/100\n",
            "251/251 [==============================] - ETA: 0s - loss: 0.6508 - accuracy: 0.6893\n",
            "Epoch 00026: val_accuracy improved from 0.72961 to 0.73109, saving model to best_eff_b7_model.h5\n",
            "251/251 [==============================] - 104s 414ms/step - loss: 0.6508 - accuracy: 0.6893 - val_loss: 0.6394 - val_accuracy: 0.7311\n",
            "Epoch 27/100\n",
            "251/251 [==============================] - ETA: 0s - loss: 0.6469 - accuracy: 0.6966\n",
            "Epoch 00027: val_accuracy improved from 0.73109 to 0.73604, saving model to best_eff_b7_model.h5\n",
            "251/251 [==============================] - 104s 416ms/step - loss: 0.6469 - accuracy: 0.6966 - val_loss: 0.6378 - val_accuracy: 0.7360\n",
            "Epoch 28/100\n",
            "251/251 [==============================] - ETA: 0s - loss: 0.6462 - accuracy: 0.7007\n",
            "Epoch 00028: val_accuracy improved from 0.73604 to 0.73752, saving model to best_eff_b7_model.h5\n",
            "251/251 [==============================] - 104s 414ms/step - loss: 0.6462 - accuracy: 0.7007 - val_loss: 0.6362 - val_accuracy: 0.7375\n",
            "Epoch 29/100\n",
            "251/251 [==============================] - ETA: 0s - loss: 0.6461 - accuracy: 0.6973\n",
            "Epoch 00029: val_accuracy improved from 0.73752 to 0.74048, saving model to best_eff_b7_model.h5\n",
            "251/251 [==============================] - 104s 413ms/step - loss: 0.6461 - accuracy: 0.6973 - val_loss: 0.6346 - val_accuracy: 0.7405\n",
            "Epoch 30/100\n",
            "251/251 [==============================] - ETA: 0s - loss: 0.6438 - accuracy: 0.7038\n",
            "Epoch 00030: val_accuracy improved from 0.74048 to 0.74592, saving model to best_eff_b7_model.h5\n",
            "251/251 [==============================] - 104s 414ms/step - loss: 0.6438 - accuracy: 0.7038 - val_loss: 0.6330 - val_accuracy: 0.7459\n",
            "Epoch 31/100\n",
            "251/251 [==============================] - ETA: 0s - loss: 0.6411 - accuracy: 0.7138\n",
            "Epoch 00031: val_accuracy did not improve from 0.74592\n",
            "251/251 [==============================] - 104s 414ms/step - loss: 0.6411 - accuracy: 0.7138 - val_loss: 0.6316 - val_accuracy: 0.7454\n",
            "Epoch 32/100\n",
            "251/251 [==============================] - ETA: 0s - loss: 0.6400 - accuracy: 0.7087\n",
            "Epoch 00032: val_accuracy improved from 0.74592 to 0.74790, saving model to best_eff_b7_model.h5\n",
            "251/251 [==============================] - 104s 413ms/step - loss: 0.6400 - accuracy: 0.7087 - val_loss: 0.6300 - val_accuracy: 0.7479\n",
            "Epoch 33/100\n",
            "251/251 [==============================] - ETA: 0s - loss: 0.6394 - accuracy: 0.7169\n",
            "Epoch 00033: val_accuracy improved from 0.74790 to 0.74938, saving model to best_eff_b7_model.h5\n",
            "251/251 [==============================] - 104s 413ms/step - loss: 0.6394 - accuracy: 0.7169 - val_loss: 0.6285 - val_accuracy: 0.7494\n",
            "Epoch 34/100\n",
            "251/251 [==============================] - ETA: 0s - loss: 0.6391 - accuracy: 0.7114\n",
            "Epoch 00034: val_accuracy improved from 0.74938 to 0.75581, saving model to best_eff_b7_model.h5\n",
            "251/251 [==============================] - 104s 413ms/step - loss: 0.6391 - accuracy: 0.7114 - val_loss: 0.6270 - val_accuracy: 0.7558\n",
            "Epoch 35/100\n",
            "251/251 [==============================] - ETA: 0s - loss: 0.6380 - accuracy: 0.7167\n",
            "Epoch 00035: val_accuracy did not improve from 0.75581\n",
            "251/251 [==============================] - 104s 413ms/step - loss: 0.6380 - accuracy: 0.7167 - val_loss: 0.6257 - val_accuracy: 0.7533\n",
            "Epoch 36/100\n",
            "251/251 [==============================] - ETA: 0s - loss: 0.6360 - accuracy: 0.7166\n",
            "Epoch 00036: val_accuracy improved from 0.75581 to 0.75680, saving model to best_eff_b7_model.h5\n",
            "251/251 [==============================] - 104s 416ms/step - loss: 0.6360 - accuracy: 0.7166 - val_loss: 0.6243 - val_accuracy: 0.7568\n",
            "Epoch 37/100\n",
            "251/251 [==============================] - ETA: 0s - loss: 0.6354 - accuracy: 0.7217\n",
            "Epoch 00037: val_accuracy improved from 0.75680 to 0.76322, saving model to best_eff_b7_model.h5\n",
            "251/251 [==============================] - 104s 415ms/step - loss: 0.6354 - accuracy: 0.7217 - val_loss: 0.6228 - val_accuracy: 0.7632\n",
            "Epoch 38/100\n",
            "251/251 [==============================] - ETA: 0s - loss: 0.6334 - accuracy: 0.7242\n",
            "Epoch 00038: val_accuracy improved from 0.76322 to 0.76421, saving model to best_eff_b7_model.h5\n",
            "251/251 [==============================] - 104s 414ms/step - loss: 0.6334 - accuracy: 0.7242 - val_loss: 0.6214 - val_accuracy: 0.7642\n",
            "Epoch 39/100\n",
            "251/251 [==============================] - ETA: 0s - loss: 0.6331 - accuracy: 0.7214\n",
            "Epoch 00039: val_accuracy did not improve from 0.76421\n",
            "251/251 [==============================] - 104s 414ms/step - loss: 0.6331 - accuracy: 0.7214 - val_loss: 0.6201 - val_accuracy: 0.7642\n",
            "Epoch 40/100\n",
            "251/251 [==============================] - ETA: 0s - loss: 0.6309 - accuracy: 0.7297\n",
            "Epoch 00040: val_accuracy improved from 0.76421 to 0.76569, saving model to best_eff_b7_model.h5\n",
            "251/251 [==============================] - 104s 415ms/step - loss: 0.6309 - accuracy: 0.7297 - val_loss: 0.6187 - val_accuracy: 0.7657\n",
            "Epoch 41/100\n",
            "251/251 [==============================] - ETA: 0s - loss: 0.6308 - accuracy: 0.7248\n",
            "Epoch 00041: val_accuracy improved from 0.76569 to 0.76817, saving model to best_eff_b7_model.h5\n",
            "251/251 [==============================] - 104s 416ms/step - loss: 0.6308 - accuracy: 0.7248 - val_loss: 0.6173 - val_accuracy: 0.7682\n",
            "Epoch 42/100\n",
            "251/251 [==============================] - ETA: 0s - loss: 0.6308 - accuracy: 0.7197\n",
            "Epoch 00042: val_accuracy improved from 0.76817 to 0.76915, saving model to best_eff_b7_model.h5\n",
            "251/251 [==============================] - 105s 419ms/step - loss: 0.6308 - accuracy: 0.7197 - val_loss: 0.6160 - val_accuracy: 0.7692\n",
            "Epoch 43/100\n",
            "251/251 [==============================] - ETA: 0s - loss: 0.6277 - accuracy: 0.7293\n",
            "Epoch 00043: val_accuracy improved from 0.76915 to 0.77064, saving model to best_eff_b7_model.h5\n",
            "251/251 [==============================] - 104s 416ms/step - loss: 0.6277 - accuracy: 0.7293 - val_loss: 0.6146 - val_accuracy: 0.7706\n",
            "Epoch 44/100\n",
            "251/251 [==============================] - ETA: 0s - loss: 0.6277 - accuracy: 0.7303\n",
            "Epoch 00044: val_accuracy improved from 0.77064 to 0.77212, saving model to best_eff_b7_model.h5\n",
            "251/251 [==============================] - 104s 415ms/step - loss: 0.6277 - accuracy: 0.7303 - val_loss: 0.6133 - val_accuracy: 0.7721\n",
            "Epoch 45/100\n",
            "251/251 [==============================] - ETA: 0s - loss: 0.6256 - accuracy: 0.7365\n",
            "Epoch 00045: val_accuracy did not improve from 0.77212\n",
            "251/251 [==============================] - 104s 414ms/step - loss: 0.6256 - accuracy: 0.7365 - val_loss: 0.6121 - val_accuracy: 0.7721\n",
            "Epoch 46/100\n",
            "251/251 [==============================] - ETA: 0s - loss: 0.6245 - accuracy: 0.7403\n",
            "Epoch 00046: val_accuracy improved from 0.77212 to 0.77261, saving model to best_eff_b7_model.h5\n",
            "251/251 [==============================] - 104s 415ms/step - loss: 0.6245 - accuracy: 0.7403 - val_loss: 0.6109 - val_accuracy: 0.7726\n",
            "Epoch 47/100\n",
            "251/251 [==============================] - ETA: 0s - loss: 0.6253 - accuracy: 0.7387\n",
            "Epoch 00047: val_accuracy improved from 0.77261 to 0.77360, saving model to best_eff_b7_model.h5\n",
            "251/251 [==============================] - 104s 416ms/step - loss: 0.6253 - accuracy: 0.7387 - val_loss: 0.6096 - val_accuracy: 0.7736\n",
            "Epoch 48/100\n",
            "251/251 [==============================] - ETA: 0s - loss: 0.6221 - accuracy: 0.7340\n",
            "Epoch 00048: val_accuracy improved from 0.77360 to 0.77756, saving model to best_eff_b7_model.h5\n",
            "251/251 [==============================] - 104s 414ms/step - loss: 0.6221 - accuracy: 0.7340 - val_loss: 0.6082 - val_accuracy: 0.7776\n",
            "Epoch 49/100\n",
            "251/251 [==============================] - ETA: 0s - loss: 0.6214 - accuracy: 0.7353\n",
            "Epoch 00049: val_accuracy improved from 0.77756 to 0.77855, saving model to best_eff_b7_model.h5\n",
            "251/251 [==============================] - 104s 414ms/step - loss: 0.6214 - accuracy: 0.7353 - val_loss: 0.6072 - val_accuracy: 0.7785\n",
            "Epoch 50/100\n",
            "251/251 [==============================] - ETA: 0s - loss: 0.6202 - accuracy: 0.7428\n",
            "Epoch 00050: val_accuracy did not improve from 0.77855\n",
            "251/251 [==============================] - 104s 414ms/step - loss: 0.6202 - accuracy: 0.7428 - val_loss: 0.6060 - val_accuracy: 0.7781\n",
            "Epoch 51/100\n",
            "251/251 [==============================] - ETA: 0s - loss: 0.6194 - accuracy: 0.7484\n",
            "Epoch 00051: val_accuracy did not improve from 0.77855\n",
            "251/251 [==============================] - 104s 414ms/step - loss: 0.6194 - accuracy: 0.7484 - val_loss: 0.6049 - val_accuracy: 0.7781\n",
            "Epoch 52/100\n",
            "251/251 [==============================] - ETA: 0s - loss: 0.6195 - accuracy: 0.7410\n",
            "Epoch 00052: val_accuracy improved from 0.77855 to 0.77954, saving model to best_eff_b7_model.h5\n",
            "251/251 [==============================] - 104s 413ms/step - loss: 0.6195 - accuracy: 0.7410 - val_loss: 0.6037 - val_accuracy: 0.7795\n",
            "Epoch 53/100\n",
            "251/251 [==============================] - ETA: 0s - loss: 0.6180 - accuracy: 0.7434\n",
            "Epoch 00053: val_accuracy improved from 0.77954 to 0.78250, saving model to best_eff_b7_model.h5\n",
            "251/251 [==============================] - 104s 414ms/step - loss: 0.6180 - accuracy: 0.7434 - val_loss: 0.6025 - val_accuracy: 0.7825\n",
            "Epoch 54/100\n",
            "251/251 [==============================] - ETA: 0s - loss: 0.6164 - accuracy: 0.7452\n",
            "Epoch 00054: val_accuracy improved from 0.78250 to 0.78497, saving model to best_eff_b7_model.h5\n",
            "251/251 [==============================] - 104s 414ms/step - loss: 0.6164 - accuracy: 0.7452 - val_loss: 0.6013 - val_accuracy: 0.7850\n",
            "Epoch 55/100\n",
            "251/251 [==============================] - ETA: 0s - loss: 0.6163 - accuracy: 0.7479\n",
            "Epoch 00055: val_accuracy improved from 0.78497 to 0.78695, saving model to best_eff_b7_model.h5\n",
            "251/251 [==============================] - 104s 413ms/step - loss: 0.6163 - accuracy: 0.7479 - val_loss: 0.6001 - val_accuracy: 0.7870\n",
            "Epoch 56/100\n",
            "251/251 [==============================] - ETA: 0s - loss: 0.6144 - accuracy: 0.7505\n",
            "Epoch 00056: val_accuracy improved from 0.78695 to 0.78794, saving model to best_eff_b7_model.h5\n",
            "251/251 [==============================] - 104s 413ms/step - loss: 0.6144 - accuracy: 0.7505 - val_loss: 0.5990 - val_accuracy: 0.7879\n",
            "Epoch 57/100\n",
            "251/251 [==============================] - ETA: 0s - loss: 0.6137 - accuracy: 0.7529\n",
            "Epoch 00057: val_accuracy did not improve from 0.78794\n",
            "251/251 [==============================] - 104s 413ms/step - loss: 0.6137 - accuracy: 0.7529 - val_loss: 0.5978 - val_accuracy: 0.7879\n",
            "Epoch 58/100\n",
            "251/251 [==============================] - ETA: 0s - loss: 0.6129 - accuracy: 0.7529\n",
            "Epoch 00058: val_accuracy improved from 0.78794 to 0.78942, saving model to best_eff_b7_model.h5\n",
            "251/251 [==============================] - 103s 412ms/step - loss: 0.6129 - accuracy: 0.7529 - val_loss: 0.5968 - val_accuracy: 0.7894\n",
            "Epoch 59/100\n",
            "251/251 [==============================] - ETA: 0s - loss: 0.6127 - accuracy: 0.7484\n",
            "Epoch 00059: val_accuracy improved from 0.78942 to 0.78992, saving model to best_eff_b7_model.h5\n",
            "251/251 [==============================] - 104s 413ms/step - loss: 0.6127 - accuracy: 0.7484 - val_loss: 0.5957 - val_accuracy: 0.7899\n",
            "Epoch 60/100\n",
            "251/251 [==============================] - ETA: 0s - loss: 0.6111 - accuracy: 0.7514\n",
            "Epoch 00060: val_accuracy improved from 0.78992 to 0.79090, saving model to best_eff_b7_model.h5\n",
            "251/251 [==============================] - 104s 413ms/step - loss: 0.6111 - accuracy: 0.7514 - val_loss: 0.5947 - val_accuracy: 0.7909\n",
            "Epoch 61/100\n",
            "251/251 [==============================] - ETA: 0s - loss: 0.6108 - accuracy: 0.7488\n",
            "Epoch 00061: val_accuracy did not improve from 0.79090\n",
            "251/251 [==============================] - 103s 412ms/step - loss: 0.6108 - accuracy: 0.7488 - val_loss: 0.5938 - val_accuracy: 0.7909\n",
            "Epoch 62/100\n",
            "251/251 [==============================] - ETA: 0s - loss: 0.6086 - accuracy: 0.7585\n",
            "Epoch 00062: val_accuracy improved from 0.79090 to 0.79189, saving model to best_eff_b7_model.h5\n",
            "251/251 [==============================] - 104s 412ms/step - loss: 0.6086 - accuracy: 0.7585 - val_loss: 0.5926 - val_accuracy: 0.7919\n",
            "Epoch 63/100\n",
            "251/251 [==============================] - ETA: 0s - loss: 0.6104 - accuracy: 0.7465\n",
            "Epoch 00063: val_accuracy did not improve from 0.79189\n",
            "251/251 [==============================] - 103s 411ms/step - loss: 0.6104 - accuracy: 0.7465 - val_loss: 0.5916 - val_accuracy: 0.7919\n",
            "Epoch 64/100\n",
            "251/251 [==============================] - ETA: 0s - loss: 0.6091 - accuracy: 0.7512\n",
            "Epoch 00064: val_accuracy improved from 0.79189 to 0.79288, saving model to best_eff_b7_model.h5\n",
            "251/251 [==============================] - 103s 412ms/step - loss: 0.6091 - accuracy: 0.7512 - val_loss: 0.5905 - val_accuracy: 0.7929\n",
            "Epoch 65/100\n",
            "251/251 [==============================] - ETA: 0s - loss: 0.6074 - accuracy: 0.7569\n",
            "Epoch 00065: val_accuracy improved from 0.79288 to 0.79535, saving model to best_eff_b7_model.h5\n",
            "251/251 [==============================] - 103s 412ms/step - loss: 0.6074 - accuracy: 0.7569 - val_loss: 0.5895 - val_accuracy: 0.7954\n",
            "Epoch 66/100\n",
            "251/251 [==============================] - ETA: 0s - loss: 0.6057 - accuracy: 0.7595\n",
            "Epoch 00066: val_accuracy did not improve from 0.79535\n",
            "251/251 [==============================] - 103s 412ms/step - loss: 0.6057 - accuracy: 0.7595 - val_loss: 0.5885 - val_accuracy: 0.7954\n",
            "Epoch 67/100\n",
            "251/251 [==============================] - ETA: 0s - loss: 0.6066 - accuracy: 0.7549\n",
            "Epoch 00067: val_accuracy improved from 0.79535 to 0.79684, saving model to best_eff_b7_model.h5\n",
            "251/251 [==============================] - 103s 412ms/step - loss: 0.6066 - accuracy: 0.7549 - val_loss: 0.5875 - val_accuracy: 0.7968\n",
            "Epoch 68/100\n",
            "251/251 [==============================] - ETA: 0s - loss: 0.6047 - accuracy: 0.7605\n",
            "Epoch 00068: val_accuracy improved from 0.79684 to 0.79733, saving model to best_eff_b7_model.h5\n",
            "251/251 [==============================] - 104s 413ms/step - loss: 0.6047 - accuracy: 0.7605 - val_loss: 0.5865 - val_accuracy: 0.7973\n",
            "Epoch 69/100\n",
            "251/251 [==============================] - ETA: 0s - loss: 0.6031 - accuracy: 0.7587\n",
            "Epoch 00069: val_accuracy improved from 0.79733 to 0.79783, saving model to best_eff_b7_model.h5\n",
            "251/251 [==============================] - 104s 413ms/step - loss: 0.6031 - accuracy: 0.7587 - val_loss: 0.5856 - val_accuracy: 0.7978\n",
            "Epoch 70/100\n",
            "251/251 [==============================] - ETA: 0s - loss: 0.6030 - accuracy: 0.7618\n",
            "Epoch 00070: val_accuracy improved from 0.79783 to 0.79881, saving model to best_eff_b7_model.h5\n",
            "251/251 [==============================] - 104s 413ms/step - loss: 0.6030 - accuracy: 0.7618 - val_loss: 0.5847 - val_accuracy: 0.7988\n",
            "Epoch 71/100\n",
            "251/251 [==============================] - ETA: 0s - loss: 0.6029 - accuracy: 0.7683\n",
            "Epoch 00071: val_accuracy improved from 0.79881 to 0.79931, saving model to best_eff_b7_model.h5\n",
            "251/251 [==============================] - 105s 418ms/step - loss: 0.6029 - accuracy: 0.7683 - val_loss: 0.5837 - val_accuracy: 0.7993\n",
            "Epoch 72/100\n",
            "251/251 [==============================] - ETA: 0s - loss: 0.6006 - accuracy: 0.7592\n",
            "Epoch 00072: val_accuracy improved from 0.79931 to 0.80178, saving model to best_eff_b7_model.h5\n",
            "251/251 [==============================] - 104s 415ms/step - loss: 0.6006 - accuracy: 0.7592 - val_loss: 0.5828 - val_accuracy: 0.8018\n",
            "Epoch 73/100\n",
            "251/251 [==============================] - ETA: 0s - loss: 0.6005 - accuracy: 0.7623\n",
            "Epoch 00073: val_accuracy did not improve from 0.80178\n",
            "251/251 [==============================] - 103s 412ms/step - loss: 0.6005 - accuracy: 0.7623 - val_loss: 0.5819 - val_accuracy: 0.8008\n",
            "Epoch 74/100\n",
            "251/251 [==============================] - ETA: 0s - loss: 0.6004 - accuracy: 0.7606\n",
            "Epoch 00074: val_accuracy improved from 0.80178 to 0.80227, saving model to best_eff_b7_model.h5\n",
            "251/251 [==============================] - 104s 414ms/step - loss: 0.6004 - accuracy: 0.7606 - val_loss: 0.5809 - val_accuracy: 0.8023\n",
            "Epoch 75/100\n",
            "251/251 [==============================] - ETA: 0s - loss: 0.5985 - accuracy: 0.7680\n",
            "Epoch 00075: val_accuracy improved from 0.80227 to 0.80277, saving model to best_eff_b7_model.h5\n",
            "251/251 [==============================] - 104s 414ms/step - loss: 0.5985 - accuracy: 0.7680 - val_loss: 0.5800 - val_accuracy: 0.8028\n",
            "Epoch 76/100\n",
            "251/251 [==============================] - ETA: 0s - loss: 0.5992 - accuracy: 0.7641\n",
            "Epoch 00076: val_accuracy improved from 0.80277 to 0.80425, saving model to best_eff_b7_model.h5\n",
            "251/251 [==============================] - 104s 416ms/step - loss: 0.5992 - accuracy: 0.7641 - val_loss: 0.5790 - val_accuracy: 0.8043\n",
            "Epoch 77/100\n",
            "251/251 [==============================] - ETA: 0s - loss: 0.5975 - accuracy: 0.7661\n",
            "Epoch 00077: val_accuracy did not improve from 0.80425\n",
            "251/251 [==============================] - 104s 416ms/step - loss: 0.5975 - accuracy: 0.7661 - val_loss: 0.5782 - val_accuracy: 0.8043\n",
            "Epoch 78/100\n",
            "251/251 [==============================] - ETA: 0s - loss: 0.5977 - accuracy: 0.7619\n",
            "Epoch 00078: val_accuracy improved from 0.80425 to 0.80475, saving model to best_eff_b7_model.h5\n",
            "251/251 [==============================] - 104s 415ms/step - loss: 0.5977 - accuracy: 0.7619 - val_loss: 0.5773 - val_accuracy: 0.8047\n",
            "Epoch 79/100\n",
            "251/251 [==============================] - ETA: 0s - loss: 0.5971 - accuracy: 0.7724\n",
            "Epoch 00079: val_accuracy improved from 0.80475 to 0.80623, saving model to best_eff_b7_model.h5\n",
            "251/251 [==============================] - 104s 414ms/step - loss: 0.5971 - accuracy: 0.7724 - val_loss: 0.5764 - val_accuracy: 0.8062\n",
            "Epoch 80/100\n",
            "251/251 [==============================] - ETA: 0s - loss: 0.5949 - accuracy: 0.7684\n",
            "Epoch 00080: val_accuracy did not improve from 0.80623\n",
            "251/251 [==============================] - 104s 416ms/step - loss: 0.5949 - accuracy: 0.7684 - val_loss: 0.5756 - val_accuracy: 0.8062\n",
            "Epoch 81/100\n",
            "251/251 [==============================] - ETA: 0s - loss: 0.5957 - accuracy: 0.7674\n",
            "Epoch 00081: val_accuracy did not improve from 0.80623\n",
            "251/251 [==============================] - 104s 415ms/step - loss: 0.5957 - accuracy: 0.7674 - val_loss: 0.5748 - val_accuracy: 0.8052\n",
            "Epoch 82/100\n",
            "251/251 [==============================] - ETA: 0s - loss: 0.5960 - accuracy: 0.7628\n",
            "Epoch 00082: val_accuracy did not improve from 0.80623\n",
            "251/251 [==============================] - 104s 415ms/step - loss: 0.5960 - accuracy: 0.7628 - val_loss: 0.5741 - val_accuracy: 0.8057\n",
            "Epoch 83/100\n",
            "251/251 [==============================] - ETA: 0s - loss: 0.5933 - accuracy: 0.7731\n",
            "Epoch 00083: val_accuracy improved from 0.80623 to 0.80722, saving model to best_eff_b7_model.h5\n",
            "251/251 [==============================] - 104s 416ms/step - loss: 0.5933 - accuracy: 0.7731 - val_loss: 0.5731 - val_accuracy: 0.8072\n",
            "Epoch 84/100\n",
            "251/251 [==============================] - ETA: 0s - loss: 0.5926 - accuracy: 0.7679\n",
            "Epoch 00084: val_accuracy improved from 0.80722 to 0.80821, saving model to best_eff_b7_model.h5\n",
            "251/251 [==============================] - 104s 415ms/step - loss: 0.5926 - accuracy: 0.7679 - val_loss: 0.5722 - val_accuracy: 0.8082\n",
            "Epoch 85/100\n",
            "251/251 [==============================] - ETA: 0s - loss: 0.5923 - accuracy: 0.7661\n",
            "Epoch 00085: val_accuracy did not improve from 0.80821\n",
            "251/251 [==============================] - 104s 414ms/step - loss: 0.5923 - accuracy: 0.7661 - val_loss: 0.5714 - val_accuracy: 0.8077\n",
            "Epoch 86/100\n",
            "251/251 [==============================] - ETA: 0s - loss: 0.5921 - accuracy: 0.7686\n",
            "Epoch 00086: val_accuracy did not improve from 0.80821\n",
            "251/251 [==============================] - 104s 415ms/step - loss: 0.5921 - accuracy: 0.7686 - val_loss: 0.5707 - val_accuracy: 0.8072\n",
            "Epoch 87/100\n",
            "251/251 [==============================] - ETA: 0s - loss: 0.5904 - accuracy: 0.7708\n",
            "Epoch 00087: val_accuracy did not improve from 0.80821\n",
            "251/251 [==============================] - 104s 415ms/step - loss: 0.5904 - accuracy: 0.7708 - val_loss: 0.5698 - val_accuracy: 0.8077\n",
            "Epoch 88/100\n",
            "251/251 [==============================] - ETA: 0s - loss: 0.5892 - accuracy: 0.7749\n",
            "Epoch 00088: val_accuracy improved from 0.80821 to 0.80969, saving model to best_eff_b7_model.h5\n",
            "251/251 [==============================] - 104s 414ms/step - loss: 0.5892 - accuracy: 0.7749 - val_loss: 0.5689 - val_accuracy: 0.8097\n",
            "Epoch 89/100\n",
            "251/251 [==============================] - ETA: 0s - loss: 0.5889 - accuracy: 0.7771\n",
            "Epoch 00089: val_accuracy did not improve from 0.80969\n",
            "251/251 [==============================] - 104s 414ms/step - loss: 0.5889 - accuracy: 0.7771 - val_loss: 0.5683 - val_accuracy: 0.8077\n",
            "Epoch 90/100\n",
            "251/251 [==============================] - ETA: 0s - loss: 0.5879 - accuracy: 0.7775\n",
            "Epoch 00090: val_accuracy did not improve from 0.80969\n",
            "251/251 [==============================] - 104s 413ms/step - loss: 0.5879 - accuracy: 0.7775 - val_loss: 0.5674 - val_accuracy: 0.8087\n",
            "Epoch 91/100\n",
            "251/251 [==============================] - ETA: 0s - loss: 0.5893 - accuracy: 0.7719\n",
            "Epoch 00091: val_accuracy did not improve from 0.80969\n",
            "251/251 [==============================] - 104s 413ms/step - loss: 0.5893 - accuracy: 0.7719 - val_loss: 0.5666 - val_accuracy: 0.8092\n",
            "Epoch 92/100\n",
            "251/251 [==============================] - ETA: 0s - loss: 0.5872 - accuracy: 0.7770\n",
            "Epoch 00092: val_accuracy did not improve from 0.80969\n",
            "251/251 [==============================] - 104s 414ms/step - loss: 0.5872 - accuracy: 0.7770 - val_loss: 0.5659 - val_accuracy: 0.8087\n",
            "Epoch 93/100\n",
            "251/251 [==============================] - ETA: 0s - loss: 0.5873 - accuracy: 0.7755\n",
            "Epoch 00093: val_accuracy did not improve from 0.80969\n",
            "251/251 [==============================] - 103s 412ms/step - loss: 0.5873 - accuracy: 0.7755 - val_loss: 0.5652 - val_accuracy: 0.8092\n",
            "Epoch 94/100\n",
            "251/251 [==============================] - ETA: 0s - loss: 0.5845 - accuracy: 0.7774\n",
            "Epoch 00094: val_accuracy improved from 0.80969 to 0.81018, saving model to best_eff_b7_model.h5\n",
            "251/251 [==============================] - 104s 413ms/step - loss: 0.5845 - accuracy: 0.7774 - val_loss: 0.5644 - val_accuracy: 0.8102\n",
            "Epoch 95/100\n",
            "251/251 [==============================] - ETA: 0s - loss: 0.5846 - accuracy: 0.7806\n",
            "Epoch 00095: val_accuracy did not improve from 0.81018\n",
            "251/251 [==============================] - 104s 414ms/step - loss: 0.5846 - accuracy: 0.7806 - val_loss: 0.5637 - val_accuracy: 0.8102\n",
            "Epoch 96/100\n",
            "251/251 [==============================] - ETA: 0s - loss: 0.5857 - accuracy: 0.7716\n",
            "Epoch 00096: val_accuracy did not improve from 0.81018\n",
            "251/251 [==============================] - 104s 414ms/step - loss: 0.5857 - accuracy: 0.7716 - val_loss: 0.5630 - val_accuracy: 0.8102\n",
            "Epoch 97/100\n",
            "251/251 [==============================] - ETA: 0s - loss: 0.5854 - accuracy: 0.7688\n",
            "Epoch 00097: val_accuracy improved from 0.81018 to 0.81117, saving model to best_eff_b7_model.h5\n",
            "251/251 [==============================] - 104s 413ms/step - loss: 0.5854 - accuracy: 0.7688 - val_loss: 0.5622 - val_accuracy: 0.8112\n",
            "Epoch 98/100\n",
            "251/251 [==============================] - ETA: 0s - loss: 0.5834 - accuracy: 0.7781\n",
            "Epoch 00098: val_accuracy improved from 0.81117 to 0.81265, saving model to best_eff_b7_model.h5\n",
            "251/251 [==============================] - 104s 415ms/step - loss: 0.5834 - accuracy: 0.7781 - val_loss: 0.5615 - val_accuracy: 0.8127\n",
            "Epoch 99/100\n",
            "251/251 [==============================] - ETA: 0s - loss: 0.5835 - accuracy: 0.7773\n",
            "Epoch 00099: val_accuracy improved from 0.81265 to 0.81315, saving model to best_eff_b7_model.h5\n",
            "251/251 [==============================] - 104s 414ms/step - loss: 0.5835 - accuracy: 0.7773 - val_loss: 0.5607 - val_accuracy: 0.8131\n",
            "Epoch 100/100\n",
            "251/251 [==============================] - ETA: 0s - loss: 0.5826 - accuracy: 0.7786\n",
            "Epoch 00100: val_accuracy improved from 0.81315 to 0.81414, saving model to best_eff_b7_model.h5\n",
            "251/251 [==============================] - 104s 414ms/step - loss: 0.5826 - accuracy: 0.7786 - val_loss: 0.5600 - val_accuracy: 0.8141\n"
          ],
          "name": "stdout"
        }
      ]
    },
    {
      "cell_type": "markdown",
      "metadata": {
        "id": "k0667aFlSxW1",
        "colab_type": "text"
      },
      "source": [
        "## Evaluating Accuracy and Loss for the Model"
      ]
    },
    {
      "cell_type": "code",
      "metadata": {
        "id": "2eX4ETUCSxW2",
        "colab_type": "code",
        "colab": {
          "base_uri": "https://localhost:8080/",
          "height": 280
        },
        "outputId": "dde2f323-891c-4c3a-ad8f-9eed950aa9bb"
      },
      "source": [
        "acc = history.history['accuracy']\n",
        "val_acc = history.history['val_accuracy']\n",
        "\n",
        "loss = history.history['loss']\n",
        "val_loss = history.history['val_loss']\n",
        "\n",
        "plt.figure(figsize=(8, 8))\n",
        "plt.subplot(2, 1, 1)\n",
        "plt.plot(acc, label='Training Accuracy')\n",
        "plt.plot(val_acc, label='Validation Accuracy')\n",
        "plt.legend(loc='lower right')\n",
        "plt.ylabel('Accuracy')\n",
        "plt.ylim([min(plt.ylim()),1])\n",
        "plt.title('Training and Validation Accuracy')"
      ],
      "execution_count": 64,
      "outputs": [
        {
          "output_type": "execute_result",
          "data": {
            "text/plain": [
              "Text(0.5, 1.0, 'Training and Validation Accuracy')"
            ]
          },
          "metadata": {
            "tags": []
          },
          "execution_count": 64
        },
        {
          "output_type": "display_data",
          "data": {
            "image/png": "[encoded data removed]",
            "text/plain": [
              "<Figure size 576x576 with 1 Axes>"
            ]
          },
          "metadata": {
            "tags": [],
            "needs_background": "light"
          }
        }
      ]
    },
    {
      "cell_type": "code",
      "metadata": {
        "id": "kpOuoN-m5irm",
        "colab_type": "code",
        "colab": {
          "base_uri": "https://localhost:8080/",
          "height": 177
        },
        "outputId": "5d297edb-11f3-4c91-98bd-f03d27cc8346"
      },
      "source": [
        "plt.subplot(2, 1, 2)\n",
        "plt.plot(loss, label='Training Loss')\n",
        "plt.plot(val_loss, label='Validation Loss')\n",
        "plt.legend(loc='upper right')\n",
        "plt.ylabel('Cross Entropy')\n",
        "plt.ylim([0,1.0])\n",
        "plt.title('Training and Validation Loss')\n",
        "plt.xlabel('epoch')\n",
        "plt.show()"
      ],
      "execution_count": 65,
      "outputs": [
        {
          "output_type": "display_data",
          "data": {
            "image/png": "[encoded data removed]",
            "text/plain": [
              "<Figure size 432x288 with 1 Axes>"
            ]
          },
          "metadata": {
            "tags": [],
            "needs_background": "light"
          }
        }
      ]
    },
    {
      "cell_type": "markdown",
      "metadata": {
        "id": "U9X3YMZ58Mhu",
        "colab_type": "text"
      },
      "source": [
        "# Fine Tuning"
      ]
    },
    {
      "cell_type": "code",
      "metadata": {
        "id": "R9hSL6A88P-w",
        "colab_type": "code",
        "colab": {}
      },
      "source": [
        "base_model.trainable = True"
      ],
      "execution_count": 66,
      "outputs": []
    },
    {
      "cell_type": "code",
      "metadata": {
        "id": "9WFI4Wx58Sf_",
        "colab_type": "code",
        "colab": {
          "base_uri": "https://localhost:8080/",
          "height": 35
        },
        "outputId": "9e2b0092-ce5b-4249-f2a7-9889c4e601e4"
      },
      "source": [
        "# Let's take a look to see how many layers are in the base model\n",
        "print(\"Number of layers in the base model: \", len(base_model.layers))\n",
        "\n",
        "# Fine-tune from this layer onwards\n",
        "fine_tune_at = 100\n",
        "\n",
        "# Freeze all the layers before the `fine_tune_at` layer\n",
        "for layer in base_model.layers[:fine_tune_at]:\n",
        "  layer.trainable =  False"
      ],
      "execution_count": 67,
      "outputs": [
        {
          "output_type": "stream",
          "text": [
            "Number of layers in the base model:  19\n"
          ],
          "name": "stdout"
        }
      ]
    },
    {
      "cell_type": "code",
      "metadata": {
        "id": "vhFWGebL8V1J",
        "colab_type": "code",
        "colab": {}
      },
      "source": [
        "model.compile(loss=tf.keras.losses.CategoricalCrossentropy(from_logits=True),\n",
        "              optimizer = tf.keras.optimizers.RMSprop(lr=base_learning_rate/10),\n",
        "              metrics=['accuracy'])"
      ],
      "execution_count": 68,
      "outputs": []
    },
    {
      "cell_type": "code",
      "metadata": {
        "id": "Sttquok-8m1P",
        "colab_type": "code",
        "colab": {
          "base_uri": "https://localhost:8080/",
          "height": 345
        },
        "outputId": "f72ae2e0-afc8-4501-fa92-eb78f125f850"
      },
      "source": [
        "model.summary()"
      ],
      "execution_count": 69,
      "outputs": [
        {
          "output_type": "stream",
          "text": [
            "Model: \"functional_5\"\n",
            "_________________________________________________________________\n",
            "Layer (type)                 Output Shape              Param #   \n",
            "=================================================================\n",
            "input_6 (InputLayer)         [(None, 224, 224, 3)]     0         \n",
            "_________________________________________________________________\n",
            "vgg16 (Functional)           (None, 7, 7, 512)         14714688  \n",
            "_________________________________________________________________\n",
            "global_average_pooling2d_2 ( (None, 512)               0         \n",
            "_________________________________________________________________\n",
            "dropout_2 (Dropout)          (None, 512)               0         \n",
            "_________________________________________________________________\n",
            "dense_2 (Dense)              (None, 2)                 1026      \n",
            "=================================================================\n",
            "Total params: 14,715,714\n",
            "Trainable params: 1,026\n",
            "Non-trainable params: 14,714,688\n",
            "_________________________________________________________________\n"
          ],
          "name": "stdout"
        }
      ]
    },
    {
      "cell_type": "code",
      "metadata": {
        "id": "hf7o8QDS8ope",
        "colab_type": "code",
        "colab": {
          "base_uri": "https://localhost:8080/",
          "height": 35
        },
        "outputId": "6b7e9ce4-296a-4b0d-ae49-13852ef3f319"
      },
      "source": [
        "len(model.trainable_variables)"
      ],
      "execution_count": 70,
      "outputs": [
        {
          "output_type": "execute_result",
          "data": {
            "text/plain": [
              "2"
            ]
          },
          "metadata": {
            "tags": []
          },
          "execution_count": 70
        }
      ]
    },
    {
      "cell_type": "code",
      "metadata": {
        "id": "1V0Fu4KI8rXv",
        "colab_type": "code",
        "colab": {
          "base_uri": "https://localhost:8080/",
          "height": 492
        },
        "outputId": "5e30deff-41b7-4c8c-9c9b-f5eda12bc1bb"
      },
      "source": [
        "fine_tune_epochs = 10\n",
        "total_epochs =  initial_epochs + fine_tune_epochs\n",
        "\n",
        "history_fine = model.fit(train_generator,\n",
        "                         epochs=total_epochs,\n",
        "                         initial_epoch=history.epoch[-1],\n",
        "                         validation_data=validation_generator,\n",
        "                         callbacks = [tensorboard_callback])\n",
        "\n",
        "model.save('/content/best_eff_b7_model.h5')"
      ],
      "execution_count": 71,
      "outputs": [
        {
          "output_type": "stream",
          "text": [
            "Epoch 100/110\n",
            "  1/251 [..............................] - ETA: 0s - loss: 0.5684 - accuracy: 0.7500WARNING:tensorflow:From /usr/local/lib/python3.6/dist-packages/tensorflow/python/ops/summary_ops_v2.py:1277: stop (from tensorflow.python.eager.profiler) is deprecated and will be removed after 2020-07-01.\n",
            "Instructions for updating:\n",
            "use `tf.profiler.experimental.stop` instead.\n",
            "251/251 [==============================] - 105s 420ms/step - loss: 0.5814 - accuracy: 0.7779 - val_loss: 0.5600 - val_accuracy: 0.8141\n",
            "Epoch 101/110\n",
            "251/251 [==============================] - 105s 419ms/step - loss: 0.5837 - accuracy: 0.7708 - val_loss: 0.5599 - val_accuracy: 0.8141\n",
            "Epoch 102/110\n",
            "251/251 [==============================] - 106s 421ms/step - loss: 0.5815 - accuracy: 0.7818 - val_loss: 0.5598 - val_accuracy: 0.8141\n",
            "Epoch 103/110\n",
            "251/251 [==============================] - 105s 418ms/step - loss: 0.5825 - accuracy: 0.7813 - val_loss: 0.5598 - val_accuracy: 0.8141\n",
            "Epoch 104/110\n",
            "251/251 [==============================] - 104s 415ms/step - loss: 0.5822 - accuracy: 0.7794 - val_loss: 0.5597 - val_accuracy: 0.8141\n",
            "Epoch 105/110\n",
            "251/251 [==============================] - 105s 417ms/step - loss: 0.5825 - accuracy: 0.7810 - val_loss: 0.5596 - val_accuracy: 0.8141\n",
            "Epoch 106/110\n",
            "251/251 [==============================] - 105s 417ms/step - loss: 0.5804 - accuracy: 0.7840 - val_loss: 0.5595 - val_accuracy: 0.8141\n",
            "Epoch 107/110\n",
            "251/251 [==============================] - 105s 417ms/step - loss: 0.5829 - accuracy: 0.7709 - val_loss: 0.5595 - val_accuracy: 0.8141\n",
            "Epoch 108/110\n",
            "251/251 [==============================] - 105s 418ms/step - loss: 0.5811 - accuracy: 0.7803 - val_loss: 0.5594 - val_accuracy: 0.8136\n",
            "Epoch 109/110\n",
            "251/251 [==============================] - 105s 417ms/step - loss: 0.5817 - accuracy: 0.7800 - val_loss: 0.5594 - val_accuracy: 0.8136\n",
            "Epoch 110/110\n",
            "251/251 [==============================] - 105s 418ms/step - loss: 0.5812 - accuracy: 0.7773 - val_loss: 0.5593 - val_accuracy: 0.8136\n"
          ],
          "name": "stdout"
        }
      ]
    },
    {
      "cell_type": "markdown",
      "metadata": {
        "id": "Sn5NFVot83OV",
        "colab_type": "text"
      },
      "source": [
        ""
      ]
    },
    {
      "cell_type": "code",
      "metadata": {
        "id": "VVm1oiK_83gV",
        "colab_type": "code",
        "colab": {}
      },
      "source": [
        "acc += history_fine.history['accuracy']\n",
        "val_acc += history_fine.history['val_accuracy']\n",
        "\n",
        "loss += history_fine.history['loss']\n",
        "val_loss += history_fine.history['val_loss']"
      ],
      "execution_count": 72,
      "outputs": []
    },
    {
      "cell_type": "code",
      "metadata": {
        "id": "UsSSyuOP8-GM",
        "colab_type": "code",
        "colab": {
          "base_uri": "https://localhost:8080/",
          "height": 280
        },
        "outputId": "c558e26c-e4b9-437f-c4e0-16aea09fc54a"
      },
      "source": [
        "plt.figure(figsize=(8, 8))\n",
        "plt.subplot(2, 1, 1)\n",
        "plt.plot(acc, label='Training Accuracy')\n",
        "plt.plot(val_acc, label='Validation Accuracy')\n",
        "plt.ylim([0.8, 1])\n",
        "plt.plot([initial_epochs-1,initial_epochs-1],\n",
        "          plt.ylim(), label='Start Fine Tuning')\n",
        "plt.legend(loc='lower right')\n",
        "plt.title('Training and Validation Accuracy')"
      ],
      "execution_count": 73,
      "outputs": [
        {
          "output_type": "execute_result",
          "data": {
            "text/plain": [
              "Text(0.5, 1.0, 'Training and Validation Accuracy')"
            ]
          },
          "metadata": {
            "tags": []
          },
          "execution_count": 73
        },
        {
          "output_type": "display_data",
          "data": {
            "image/png": "[encoded data removed]",
            "text/plain": [
              "<Figure size 576x576 with 1 Axes>"
            ]
          },
          "metadata": {
            "tags": [],
            "needs_background": "light"
          }
        }
      ]
    },
    {
      "cell_type": "code",
      "metadata": {
        "id": "m-RFX1Yb9Avt",
        "colab_type": "code",
        "colab": {
          "base_uri": "https://localhost:8080/",
          "height": 177
        },
        "outputId": "f61b9b68-6584-4bf6-e5bc-bab8ad9223df"
      },
      "source": [
        "plt.subplot(2, 1, 2)\n",
        "plt.plot(loss, label='Training Loss')\n",
        "plt.plot(val_loss, label='Validation Loss')\n",
        "plt.ylim([0, 1.0])\n",
        "plt.plot([initial_epochs-1,initial_epochs-1],\n",
        "         plt.ylim(), label='Start Fine Tuning')\n",
        "plt.legend(loc='upper right')\n",
        "plt.title('Training and Validation Loss')\n",
        "plt.xlabel('epoch')\n",
        "plt.show()"
      ],
      "execution_count": 74,
      "outputs": [
        {
          "output_type": "display_data",
          "data": {
            "image/png": "[encoded data removed]",
            "text/plain": [
              "<Figure size 432x288 with 1 Axes>"
            ]
          },
          "metadata": {
            "tags": [],
            "needs_background": "light"
          }
        }
      ]
    },
    {
      "cell_type": "code",
      "metadata": {
        "id": "PpLAiaHpeGg-",
        "colab_type": "code",
        "colab": {}
      },
      "source": [
        "%tensorboard --logdir logs/fit"
      ],
      "execution_count": null,
      "outputs": []
    },
    {
      "cell_type": "markdown",
      "metadata": {},
      "source": [
        "### We can see fine-tuning did not improve the accuracy of the EfficientNet B7 model."
      ]
    },
    {
      "cell_type": "markdown",
      "metadata": {
        "id": "wf_g5AORSxW7",
        "colab_type": "text"
      },
      "source": [
        "## Running the Model"
      ]
    },
    {
      "cell_type": "code",
      "metadata": {
        "id": "jE3jP9tXSxW7",
        "colab_type": "code",
        "colab": {}
      },
      "source": [
        "# load all images into a list\n",
        "images = []\n",
        "img_folder = os.path.join('/content/test/')\n",
        "img_files = os.listdir(img_folder)\n",
        "img_files = [os.path.join(img_folder, f) for f in img_files]\n",
        "# print(img_files)\n",
        "for img in img_files:\n",
        "    img = load_img(img, target_size=(224, 224))\n",
        "    img = img_to_array(img)\n",
        "    img = np.expand_dims(img, axis=0)\n",
        "    images.append(img)\n",
        "\n",
        "# stack up images list to pass for prediction\n",
        "images = np.vstack(images)\n",
        "# print(images)\n",
        "classes = model.predict_classes(images, batch_size=8)\n",
        "print(classes)"
      ],
      "execution_count": null,
      "outputs": []
    }
  ]
}